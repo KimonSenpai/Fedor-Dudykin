{
 "cells": [
  {
   "cell_type": "markdown",
   "metadata": {},
   "source": [
    "# Problems 19-21"
   ]
  },
  {
   "cell_type": "markdown",
   "metadata": {},
   "source": [
    "Ends: sum $<20$"
   ]
  },
  {
   "cell_type": "markdown",
   "metadata": {},
   "source": [
    "I: 10, II: $S > 10$"
   ]
  },
  {
   "cell_type": "markdown",
   "metadata": {},
   "source": [
    "* -1;\n",
    "* $//2$"
   ]
  },
  {
   "cell_type": "code",
   "execution_count": 1,
   "metadata": {},
   "outputs": [],
   "source": [
    "m = dict()\n",
    "def f(i, j):\n",
    "    if i+j <= 20:\n",
    "        return 0\n",
    "    if (i, j) in m:\n",
    "        return m[(i, j)]\n",
    "    mas = []\n",
    "    if i > 1:\n",
    "        mas += [f(i//2, j)]\n",
    "    if i > 0:\n",
    "        mas += [f(i - 1, j)]\n",
    "        \n",
    "    if j > 1:\n",
    "        mas += [f(i, j//2)]\n",
    "    if j > 0:\n",
    "        mas += [f(i, j - 1)]\n",
    "        \n",
    "    if all(map(lambda x: x > 0, mas)):\n",
    "        m[(i, j)] = -max(mas) - 1\n",
    "        return -max(mas) - 1\n",
    "    else:\n",
    "        m[(i, j)] = -max(filter(lambda x: x <= 0, mas)) + 1\n",
    "        return -max(filter(lambda x: x <= 0, mas)) + 1"
   ]
  },
  {
   "cell_type": "code",
   "execution_count": 4,
   "metadata": {},
   "outputs": [
    {
     "name": "stdout",
     "output_type": "stream",
     "text": [
      "25\n"
     ]
    }
   ],
   "source": [
    "for s in range(1, 50):\n",
    "    if f(s, 10) == -4:\n",
    "        print(s)"
   ]
  },
  {
   "cell_type": "markdown",
   "metadata": {},
   "source": [
    "## Вариант 3 РешуЕГЭ"
   ]
  },
  {
   "cell_type": "code",
   "execution_count": 5,
   "metadata": {},
   "outputs": [],
   "source": [
    "m = dict()\n",
    "def f(i, j):\n",
    "    if i+j >= 47:\n",
    "        return 0\n",
    "    if (i, j) in m:\n",
    "        return m[(i, j)]\n",
    "    mas = []\n",
    "    \n",
    "    mas += [f(i+2, j+1)]\n",
    "\n",
    "    mas += [f(i+1, j+2)]\n",
    "\n",
    "\n",
    "    mas += [f(i*2, j)]\n",
    "\n",
    "    mas += [f(i, j*2)]\n",
    "        \n",
    "    if all(map(lambda x: x > 0, mas)):\n",
    "        m[(i, j)] = -max(mas) - 1\n",
    "        return -max(mas) - 1\n",
    "    else:\n",
    "        m[(i, j)] = -max(filter(lambda x: x <= 0, mas)) + 1\n",
    "        return -max(filter(lambda x: x <= 0, mas)) + 1"
   ]
  },
  {
   "cell_type": "code",
   "execution_count": 7,
   "metadata": {},
   "outputs": [
    {
     "name": "stdout",
     "output_type": "stream",
     "text": [
      "7\n",
      "8\n",
      "9\n",
      "10\n",
      "11\n",
      "12\n",
      "13\n",
      "14\n",
      "15\n",
      "16\n",
      "17\n",
      "18\n",
      "19\n",
      "20\n",
      "21\n",
      "22\n",
      "23\n",
      "24\n",
      "25\n",
      "26\n",
      "27\n",
      "28\n",
      "29\n",
      "30\n",
      "31\n",
      "32\n",
      "33\n"
     ]
    }
   ],
   "source": [
    "for s in range(1, 37):\n",
    "    i = s\n",
    "    j = 10\n",
    "    mas = []\n",
    "    \n",
    "    mas += [f(i+2, j+1)]\n",
    "\n",
    "    mas += [f(i+1, j+2)]\n",
    "\n",
    "\n",
    "    mas += [f(i*2, j)]\n",
    "\n",
    "    mas += [f(i, j*2)]\n",
    "    if any(map(lambda x: x == 1, mas)):\n",
    "        print(s)\n",
    "        \n",
    "        "
   ]
  },
  {
   "cell_type": "code",
   "execution_count": 8,
   "metadata": {},
   "outputs": [
    {
     "name": "stdout",
     "output_type": "stream",
     "text": [
      "4\n",
      "5\n",
      "6\n",
      "9\n",
      "14\n",
      "15\n",
      "16\n"
     ]
    }
   ],
   "source": [
    "for s in range(1, 37):\n",
    "    if f(s, 10) == 3:\n",
    "        print(s)"
   ]
  },
  {
   "cell_type": "code",
   "execution_count": 9,
   "metadata": {},
   "outputs": [
    {
     "name": "stdout",
     "output_type": "stream",
     "text": [
      "12\n",
      "13\n"
     ]
    }
   ],
   "source": [
    "for s in range(1, 37):\n",
    "    if f(s, 10) == -4:\n",
    "        print(s)"
   ]
  }
 ],
 "metadata": {
  "kernelspec": {
   "display_name": "Python 3",
   "language": "python",
   "name": "python3"
  },
  "language_info": {
   "codemirror_mode": {
    "name": "ipython",
    "version": 3
   },
   "file_extension": ".py",
   "mimetype": "text/x-python",
   "name": "python",
   "nbconvert_exporter": "python",
   "pygments_lexer": "ipython3",
   "version": "3.7.6"
  }
 },
 "nbformat": 4,
 "nbformat_minor": 4
}
